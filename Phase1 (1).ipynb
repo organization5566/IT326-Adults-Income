{
  "nbformat": 4,
  "nbformat_minor": 0,
  "metadata": {
    "colab": {
      "provenance": []
    },
    "kernelspec": {
      "name": "python3",
      "display_name": "Python 3"
    },
    "language_info": {
      "name": "python"
    }
  },
  "cells": [
    {
      "cell_type": "markdown",
      "source": [
        "##Dataset Description\n",
        "\n",
        "The Adult Income dataset contains **48,842 instances (rows)** and **15 attributes (columns)**.  \n",
        "These attributes describe demographic and work-related information about individuals.  \n",
        "\n",
        "- **age** (numeric)  \n",
        "- **workclass** (categorical)  \n",
        "- **fnlwgt** (numeric)  \n",
        "- **education** (categorical)  \n",
        "- **education-num** (numeric)  \n",
        "- **marital-status** (categorical)  \n",
        "- **occupation** (categorical)  \n",
        "- **relationship** (categorical)  \n",
        "- **race** (categorical)  \n",
        "- **sex** (categorical)  \n",
        "- **capital-gain** (numeric)  \n",
        "- **capital-loss** (numeric)  \n",
        "- **hours-per-week** (numeric)  \n",
        "- **native-country** (categorical)  \n",
        "- **income** (target class: <=50K, >50K)  \n",
        "\n",
        "The **target attribute** is `income`, which has two classes:  \n",
        "- `<=50K`  \n",
        "- `>50K`  \n",
        "\n",
        "The dataset is imbalanced since most individuals fall into the `<=50K` class.  \n",
        "A sample of the raw dataset is also displayed below.\n"
      ],
      "metadata": {
        "id": "c0EWv5HQchxa"
      }
    },
    {
      "cell_type": "code",
      "source": [
        "!unzip archive.zip\n"
      ],
      "metadata": {
        "colab": {
          "base_uri": "https://localhost:8080/"
        },
        "id": "yPTWmyY0gE0y",
        "outputId": "a7107c43-d5be-4924-a9ef-9fd63d4c2e29"
      },
      "execution_count": 2,
      "outputs": [
        {
          "output_type": "stream",
          "name": "stdout",
          "text": [
            "Archive:  archive.zip\n",
            "  inflating: adult.csv               \n"
          ]
        }
      ]
    },
    {
      "cell_type": "code",
      "source": [
        "import pandas as pd\n",
        "data = pd.read_csv(\"adult.csv\")\n"
      ],
      "metadata": {
        "id": "r21O0v-ogrD1"
      },
      "execution_count": 3,
      "outputs": []
    },
    {
      "cell_type": "code",
      "source": [
        "print(\"Number of records:\", data.shape[0])\n",
        "print(\"Number of attributes:\", data.shape[1])\n"
      ],
      "metadata": {
        "colab": {
          "base_uri": "https://localhost:8080/"
        },
        "id": "RPEnq-RMguS4",
        "outputId": "9faab12d-8ad5-4eb8-e8a7-7f37c48f1efa"
      },
      "execution_count": 4,
      "outputs": [
        {
          "output_type": "stream",
          "name": "stdout",
          "text": [
            "Number of records: 48842\n",
            "Number of attributes: 15\n"
          ]
        }
      ]
    },
    {
      "cell_type": "code",
      "source": [
        "print(data.info())\n"
      ],
      "metadata": {
        "colab": {
          "base_uri": "https://localhost:8080/"
        },
        "id": "cZjlbmbbgzOU",
        "outputId": "e2e8210c-ec2b-49b3-8f42-4c8f76bc9cfb"
      },
      "execution_count": 5,
      "outputs": [
        {
          "output_type": "stream",
          "name": "stdout",
          "text": [
            "<class 'pandas.core.frame.DataFrame'>\n",
            "RangeIndex: 48842 entries, 0 to 48841\n",
            "Data columns (total 15 columns):\n",
            " #   Column           Non-Null Count  Dtype \n",
            "---  ------           --------------  ----- \n",
            " 0   age              48842 non-null  int64 \n",
            " 1   workclass        48842 non-null  object\n",
            " 2   fnlwgt           48842 non-null  int64 \n",
            " 3   education        48842 non-null  object\n",
            " 4   educational-num  48842 non-null  int64 \n",
            " 5   marital-status   48842 non-null  object\n",
            " 6   occupation       48842 non-null  object\n",
            " 7   relationship     48842 non-null  object\n",
            " 8   race             48842 non-null  object\n",
            " 9   gender           48842 non-null  object\n",
            " 10  capital-gain     48842 non-null  int64 \n",
            " 11  capital-loss     48842 non-null  int64 \n",
            " 12  hours-per-week   48842 non-null  int64 \n",
            " 13  native-country   48842 non-null  object\n",
            " 14  income           48842 non-null  object\n",
            "dtypes: int64(6), object(9)\n",
            "memory usage: 5.6+ MB\n",
            "None\n"
          ]
        }
      ]
    },
    {
      "cell_type": "code",
      "source": [
        "print(data[\"income\"].value_counts())\n"
      ],
      "metadata": {
        "colab": {
          "base_uri": "https://localhost:8080/"
        },
        "id": "NneiaCWOg3DG",
        "outputId": "3a6ab035-9ff2-4cd2-967a-c31d1111e8d6"
      },
      "execution_count": 6,
      "outputs": [
        {
          "output_type": "stream",
          "name": "stdout",
          "text": [
            "income\n",
            "<=50K    37155\n",
            ">50K     11687\n",
            "Name: count, dtype: int64\n"
          ]
        }
      ]
    },
    {
      "cell_type": "code",
      "source": [
        "print(data.head())\n"
      ],
      "metadata": {
        "colab": {
          "base_uri": "https://localhost:8080/"
        },
        "id": "2HQOYLQug6pe",
        "outputId": "1ac2be32-a894-4c3f-e5d0-5ecfa5a969eb"
      },
      "execution_count": 7,
      "outputs": [
        {
          "output_type": "stream",
          "name": "stdout",
          "text": [
            "   age  workclass  fnlwgt     education  educational-num      marital-status  \\\n",
            "0   25    Private  226802          11th                7       Never-married   \n",
            "1   38    Private   89814       HS-grad                9  Married-civ-spouse   \n",
            "2   28  Local-gov  336951    Assoc-acdm               12  Married-civ-spouse   \n",
            "3   44    Private  160323  Some-college               10  Married-civ-spouse   \n",
            "4   18          ?  103497  Some-college               10       Never-married   \n",
            "\n",
            "          occupation relationship   race  gender  capital-gain  capital-loss  \\\n",
            "0  Machine-op-inspct    Own-child  Black    Male             0             0   \n",
            "1    Farming-fishing      Husband  White    Male             0             0   \n",
            "2    Protective-serv      Husband  White    Male             0             0   \n",
            "3  Machine-op-inspct      Husband  Black    Male          7688             0   \n",
            "4                  ?    Own-child  White  Female             0             0   \n",
            "\n",
            "   hours-per-week native-country income  \n",
            "0              40  United-States  <=50K  \n",
            "1              50  United-States  <=50K  \n",
            "2              40  United-States   >50K  \n",
            "3              40  United-States   >50K  \n",
            "4              30  United-States  <=50K  \n"
          ]
        }
      ]
    }
  ]
}