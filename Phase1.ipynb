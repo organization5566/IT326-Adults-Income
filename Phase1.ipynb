{
  "nbformat": 4,
  "nbformat_minor": 0,
  "metadata": {
    "colab": {
      "provenance": []
    },
    "kernelspec": {
      "name": "python3",
      "display_name": "Python 3"
    },
    "language_info": {
      "name": "python"
    }
  },
  "cells": [
    {
      "cell_type": "markdown",
      "source": [
        "##Project Goal\n",
        "\n",
        "The goal of this project is to apply data mining techniques to the **Adult Income dataset**.  \n",
        "Specifically, the objective is to perform **classification** (to predict whether an individual's income is `<=50K` or `>50K`) and **clustering** (to group individuals with similar characteristics).  \n",
        "\n",
        "This project is important because income prediction is widely used in business and social research for decision-making and policy planning.\n"
      ],
      "metadata": {
        "id": "aI0TRzlW5enV"
      }
    },
    {
      "cell_type": "markdown",
      "source": [
        "## Dataset Source\n",
        "\n",
        "The dataset was obtained from Kaggle:  \n",
        "[Adult Income Dataset](https://www.kaggle.com/datasets/wenruliu/adult-income-dataset)  \n"
      ],
      "metadata": {
        "id": "Sy1vResI55X-"
      }
    },
    {
      "cell_type": "markdown",
      "source": [
        "##Dataset Description\n",
        "\n",
        "The Adult Income dataset contains **48,842 instances (rows)** and **15 attributes (columns)**.  \n",
        "These attributes describe demographic and work-related information about individuals.  \n",
        "\n",
        "- **age** (numeric)  \n",
        "- **workclass** (categorical)  \n",
        "- **fnlwgt** (numeric)  \n",
        "- **education** (categorical)  \n",
        "- **education-num** (numeric)  \n",
        "- **marital-status** (categorical)  \n",
        "- **occupation** (categorical)  \n",
        "- **relationship** (categorical)  \n",
        "- **race** (categorical)  \n",
        "- **sex** (categorical)  \n",
        "- **capital-gain** (numeric)  \n",
        "- **capital-loss** (numeric)  \n",
        "- **hours-per-week** (numeric)  \n",
        "- **native-country** (categorical)  \n",
        "- **income** (target class: <=50K, >50K)  \n",
        "\n",
        "The **target attribute** is `income`, which has two classes:  \n",
        "- `<=50K`  \n",
        "- `>50K`  \n",
        "\n",
        "The dataset is imbalanced since most individuals fall into the `<=50K` class.  \n",
        "\n"
      ],
      "metadata": {
        "id": "c0EWv5HQchxa"
      }
    },
    {
      "cell_type": "code",
      "source": [
        "import pandas as pd\n",
        "data = pd.read_csv(\"adult.csv\")\n"
      ],
      "metadata": {
        "id": "r21O0v-ogrD1"
      },
      "execution_count": 11,
      "outputs": []
    },
    {
      "cell_type": "code",
      "source": [
        "print(\"Number of records:\", data.shape[0])\n",
        "print(\"Number of attributes:\", data.shape[1])\n"
      ],
      "metadata": {
        "colab": {
          "base_uri": "https://localhost:8080/"
        },
        "id": "RPEnq-RMguS4",
        "outputId": "03ee2146-3ed4-49ae-f18c-932aed11a20b"
      },
      "execution_count": 12,
      "outputs": [
        {
          "output_type": "stream",
          "name": "stdout",
          "text": [
            "Number of records: 48842\n",
            "Number of attributes: 15\n"
          ]
        }
      ]
    },
    {
      "cell_type": "code",
      "source": [
        "print(data.info())\n"
      ],
      "metadata": {
        "colab": {
          "base_uri": "https://localhost:8080/"
        },
        "id": "cZjlbmbbgzOU",
        "outputId": "144cb7ed-973d-488c-9022-6f35113dcec1"
      },
      "execution_count": 13,
      "outputs": [
        {
          "output_type": "stream",
          "name": "stdout",
          "text": [
            "<class 'pandas.core.frame.DataFrame'>\n",
            "RangeIndex: 48842 entries, 0 to 48841\n",
            "Data columns (total 15 columns):\n",
            " #   Column           Non-Null Count  Dtype \n",
            "---  ------           --------------  ----- \n",
            " 0   age              48842 non-null  int64 \n",
            " 1   workclass        48842 non-null  object\n",
            " 2   fnlwgt           48842 non-null  int64 \n",
            " 3   education        48842 non-null  object\n",
            " 4   educational-num  48842 non-null  int64 \n",
            " 5   marital-status   48842 non-null  object\n",
            " 6   occupation       48842 non-null  object\n",
            " 7   relationship     48842 non-null  object\n",
            " 8   race             48842 non-null  object\n",
            " 9   gender           48842 non-null  object\n",
            " 10  capital-gain     48842 non-null  int64 \n",
            " 11  capital-loss     48842 non-null  int64 \n",
            " 12  hours-per-week   48842 non-null  int64 \n",
            " 13  native-country   48842 non-null  object\n",
            " 14  income           48842 non-null  object\n",
            "dtypes: int64(6), object(9)\n",
            "memory usage: 5.6+ MB\n",
            "None\n"
          ]
        }
      ]
    },
    {
      "cell_type": "code",
      "source": [
        "print(data[\"income\"].value_counts())\n"
      ],
      "metadata": {
        "id": "NneiaCWOg3DG",
        "colab": {
          "base_uri": "https://localhost:8080/"
        },
        "outputId": "1616af48-6561-4fdb-d8c8-b0f753824782"
      },
      "execution_count": 14,
      "outputs": [
        {
          "output_type": "stream",
          "name": "stdout",
          "text": [
            "income\n",
            "<=50K    37155\n",
            ">50K     11687\n",
            "Name: count, dtype: int64\n"
          ]
        }
      ]
    },
    {
      "cell_type": "markdown",
      "source": [
        "  \n",
        "Sample run of the dataset (first 5 rows):\n"
      ],
      "metadata": {
        "id": "LMC622Kr2Iv6"
      }
    },
    {
      "cell_type": "code",
      "source": [
        "print(\"Sample of the dataset:\")\n",
        "print(data.head())\n"
      ],
      "metadata": {
        "id": "2HQOYLQug6pe",
        "colab": {
          "base_uri": "https://localhost:8080/"
        },
        "outputId": "036537fb-e97e-4bbd-c259-3ba730296115"
      },
      "execution_count": 15,
      "outputs": [
        {
          "output_type": "stream",
          "name": "stdout",
          "text": [
            "Sample of the dataset:\n",
            "   age  workclass  fnlwgt     education  educational-num      marital-status  \\\n",
            "0   25    Private  226802          11th                7       Never-married   \n",
            "1   38    Private   89814       HS-grad                9  Married-civ-spouse   \n",
            "2   28  Local-gov  336951    Assoc-acdm               12  Married-civ-spouse   \n",
            "3   44    Private  160323  Some-college               10  Married-civ-spouse   \n",
            "4   18          ?  103497  Some-college               10       Never-married   \n",
            "\n",
            "          occupation relationship   race  gender  capital-gain  capital-loss  \\\n",
            "0  Machine-op-inspct    Own-child  Black    Male             0             0   \n",
            "1    Farming-fishing      Husband  White    Male             0             0   \n",
            "2    Protective-serv      Husband  White    Male             0             0   \n",
            "3  Machine-op-inspct      Husband  Black    Male          7688             0   \n",
            "4                  ?    Own-child  White  Female             0             0   \n",
            "\n",
            "   hours-per-week native-country income  \n",
            "0              40  United-States  <=50K  \n",
            "1              50  United-States  <=50K  \n",
            "2              40  United-States   >50K  \n",
            "3              40  United-States   >50K  \n",
            "4              30  United-States  <=50K  \n"
          ]
        }
      ]
    }
  ]
}
