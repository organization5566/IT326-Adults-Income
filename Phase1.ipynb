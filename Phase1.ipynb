{
  "nbformat": 4,
  "nbformat_minor": 0,
  "metadata": {
    "colab": {
      "provenance": []
    },
    "kernelspec": {
      "name": "python3",
      "display_name": "Python 3"
    },
    "language_info": {
      "name": "python"
    }
  },
  "cells": [
    {
      "cell_type": "markdown",
      "source": [
        "##Project Goal\n",
        "\n",
        "The goal of this project is to apply data mining techniques to the **Adult Income dataset**.  \n",
        "Specifically, the objective is to perform **classification** (to predict whether an individual's income is `<=50K` or `>50K`) and **clustering** (to group individuals with similar characteristics).  \n",
        "\n",
        "This project is important because income prediction is widely used in business and social research for decision-making and policy planning.\n"
      ],
      "metadata": {
        "id": "aI0TRzlW5enV"
      }
    },
    {
      "cell_type": "markdown",
      "source": [
        "## Dataset Source\n",
        "\n",
        "The dataset was obtained from Kaggle:  \n",
        "[Adult Income Dataset](https://www.kaggle.com/datasets/wenruliu/adult-income-dataset)  \n"
      ],
      "metadata": {
        "id": "Sy1vResI55X-"
      }
    },
    {
      "cell_type": "markdown",
      "source": [
        "##Dataset Description\n",
        "\n",
        "The Adult Income dataset contains **48,842 instances (rows)** and **15 attributes (columns)**.  \n",
        "These attributes describe demographic and work-related information about individuals.  \n",
        "\n",
        "- **age** (numeric)  \n",
        "- **workclass** (categorical)  \n",
        "- **fnlwgt** (numeric)  \n",
        "- **education** (categorical)  \n",
        "- **education-num** (numeric)  \n",
        "- **marital-status** (categorical)  \n",
        "- **occupation** (categorical)  \n",
        "- **relationship** (categorical)  \n",
        "- **race** (categorical)  \n",
        "- **sex** (categorical)  \n",
        "- **capital-gain** (numeric)  \n",
        "- **capital-loss** (numeric)  \n",
        "- **hours-per-week** (numeric)  \n",
        "- **native-country** (categorical)  \n",
        "- **income** (target class: <=50K, >50K)  \n",
        "\n",
        "The **target attribute** is `income`, which has two classes:  \n",
        "- `<=50K`  \n",
        "- `>50K`  \n",
        "\n",
        "The dataset is imbalanced since most individuals fall into the `<=50K` class.  \n",
        "A sample of the raw dataset is also displayed below.\n"
      ],
      "metadata": {
        "id": "c0EWv5HQchxa"
      }
    },
    {
      "cell_type": "code",
      "source": [
        "!unzip archive.zip\n"
      ],
      "metadata": {
        "colab": {
          "base_uri": "https://localhost:8080/"
        },
        "id": "yPTWmyY0gE0y",
        "outputId": "f64eb4e1-1eb5-4206-b9dd-24dd8c20ee31"
      },
      "execution_count": 6,
      "outputs": [
        {
          "output_type": "stream",
          "name": "stdout",
          "text": [
            "Archive:  archive.zip\n",
            "  inflating: adult.csv               \n"
          ]
        }
      ]
    },
    {
      "cell_type": "code",
      "source": [
        "import pandas as pd\n",
        "data = pd.read_csv(\"adult.csv\")\n"
      ],
      "metadata": {
        "id": "r21O0v-ogrD1"
      },
      "execution_count": 7,
      "outputs": []
    },
    {
      "cell_type": "code",
      "source": [
        "print(\"Number of records:\", data.shape[0])\n",
        "print(\"Number of attributes:\", data.shape[1])\n"
      ],
      "metadata": {
        "colab": {
          "base_uri": "https://localhost:8080/"
        },
        "id": "RPEnq-RMguS4",
        "outputId": "d3add6ee-ff26-46ba-f019-502473460bb3"
      },
      "execution_count": 9,
      "outputs": [
        {
          "output_type": "stream",
          "name": "stdout",
          "text": [
            "Number of records: 48842\n",
            "Number of attributes: 15\n"
          ]
        }
      ]
    },
    {
      "cell_type": "code",
      "source": [
        "print(data.info())\n"
      ],
      "metadata": {
        "colab": {
          "base_uri": "https://localhost:8080/"
        },
        "id": "cZjlbmbbgzOU",
        "outputId": "bb4d211a-4008-48c4-dacc-e03838b132da"
      },
      "execution_count": 8,
      "outputs": [
        {
          "output_type": "stream",
          "name": "stdout",
          "text": [
            "<class 'pandas.core.frame.DataFrame'>\n",
            "RangeIndex: 48842 entries, 0 to 48841\n",
            "Data columns (total 15 columns):\n",
            " #   Column           Non-Null Count  Dtype \n",
            "---  ------           --------------  ----- \n",
            " 0   age              48842 non-null  int64 \n",
            " 1   workclass        48842 non-null  object\n",
            " 2   fnlwgt           48842 non-null  int64 \n",
            " 3   education        48842 non-null  object\n",
            " 4   educational-num  48842 non-null  int64 \n",
            " 5   marital-status   48842 non-null  object\n",
            " 6   occupation       48842 non-null  object\n",
            " 7   relationship     48842 non-null  object\n",
            " 8   race             48842 non-null  object\n",
            " 9   gender           48842 non-null  object\n",
            " 10  capital-gain     48842 non-null  int64 \n",
            " 11  capital-loss     48842 non-null  int64 \n",
            " 12  hours-per-week   48842 non-null  int64 \n",
            " 13  native-country   48842 non-null  object\n",
            " 14  income           48842 non-null  object\n",
            "dtypes: int64(6), object(9)\n",
            "memory usage: 5.6+ MB\n",
            "None\n"
          ]
        }
      ]
    },
    {
      "cell_type": "code",
      "source": [
        "print(data[\"income\"].value_counts())\n"
      ],
      "metadata": {
        "id": "NneiaCWOg3DG"
      },
      "execution_count": null,
      "outputs": []
    },
    {
      "cell_type": "code",
      "source": [
        "print(data.head())\n"
      ],
      "metadata": {
        "id": "2HQOYLQug6pe"
      },
      "execution_count": null,
      "outputs": []
    }
  ]
}